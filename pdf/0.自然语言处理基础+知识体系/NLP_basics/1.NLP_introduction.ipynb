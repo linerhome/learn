{
 "cells": [
  {
   "cell_type": "markdown",
   "metadata": {},
   "source": [
    "![](../img/chinahadoop.png)"
   ]
  },
  {
   "cell_type": "markdown",
   "metadata": {},
   "source": [
    "# NLP基础\n",
    "**[小象学院](http://www.chinahadoop.cn/course/landpage/15)《机器学习集训营》课程资料 by [@寒小阳](https://www.chinahadoop.cn/user/49339/about)**\n",
    "\n",
    "![](../img/L1/0001.jpg)\n",
    "![](../img/L1/0002.jpg)\n",
    "![](../img/L1/0003.jpg)\n",
    "![](../img/L1/0004.jpg)\n",
    "![](../img/L1/0005.jpg)\n",
    "![](../img/L1/0006.jpg)\n",
    "![](../img/L1/0007.jpg)\n",
    "![](../img/L1/0008.jpg)\n",
    "![](../img/L1/0009.jpg)\n",
    "![](../img/L1/0010.jpg)\n",
    "![](../img/L1/0011.jpg)\n",
    "![](../img/L1/0012.jpg)\n",
    "![](../img/L1/0013.jpg)\n",
    "![](../img/L1/0014.jpg)\n",
    "![](../img/L1/0015.jpg)\n",
    "![](../img/L1/0016.jpg)\n",
    "![](../img/L1/0017.jpg)\n",
    "![](../img/L1/0018.jpg)\n",
    "![](../img/L1/0019.jpg)\n",
    "![](../img/L1/0020.jpg)\n",
    "![](../img/L1/0021.jpg)\n",
    "![](../img/L1/0022.jpg)\n",
    "![](../img/L1/0023.jpg)\n",
    "![](../img/L1/0024.jpg)\n",
    "![](../img/L1/0025.jpg)\n",
    "![](../img/L1/0026.jpg)\n",
    "![](../img/L1/0027.jpg)\n",
    "![](../img/L1/0028.jpg)\n",
    "![](../img/L1/0029.jpg)"
   ]
  },
  {
   "cell_type": "markdown",
   "metadata": {},
   "source": [
    "## 附\n",
    "[NLP究竟能有哪些真正有意义的应用场景？](https://www.zhihu.com/question/264459321)"
   ]
  }
 ],
 "metadata": {
  "kernelspec": {
   "display_name": "Python 3",
   "language": "python",
   "name": "python3"
  },
  "language_info": {
   "codemirror_mode": {
    "name": "ipython",
    "version": 3
   },
   "file_extension": ".py",
   "mimetype": "text/x-python",
   "name": "python",
   "nbconvert_exporter": "python",
   "pygments_lexer": "ipython3",
   "version": "3.7.3"
  },
  "toc": {
   "base_numbering": 1,
   "nav_menu": {},
   "number_sections": true,
   "sideBar": true,
   "skip_h1_title": false,
   "title_cell": "Table of Contents",
   "title_sidebar": "Contents",
   "toc_cell": false,
   "toc_position": {
    "height": "calc(100% - 180px)",
    "left": "10px",
    "top": "150px",
    "width": "306px"
   },
   "toc_section_display": true,
   "toc_window_display": false
  }
 },
 "nbformat": 4,
 "nbformat_minor": 2
}
