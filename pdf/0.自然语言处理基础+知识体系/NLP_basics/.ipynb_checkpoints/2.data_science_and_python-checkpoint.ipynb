{
 "cells": [
  {
   "cell_type": "markdown",
   "metadata": {},
   "source": [
    "![](../img/chinahadoop.png)"
   ]
  },
  {
   "cell_type": "markdown",
   "metadata": {},
   "source": [
    "# 数据科学与Python\n",
    "**[小象学院](http://www.chinahadoop.cn/course/landpage/15)《机器学习集训营》课程资料 by [@寒小阳](https://blog.csdn.net/han_xiaoyang)**"
   ]
  },
  {
   "cell_type": "markdown",
   "metadata": {},
   "source": [
    "## python简介\n",
    "全世界有众多的编程语言(大概有600多种)，流行的可能有20多种，包括`C/C++、Java、Go、perl、scala、shell、PHP、Julia、R、Python`，Python是一种非常容易上手，对于非计算机背景的同学非常友好的编程语言。Python编写的代码可读性非常好，因此很容易理解他人的代码逻辑与编写代码。\n",
    "\n",
    "Python就为我们提供了非常完善的基础代码库，覆盖了网络、文件、GUI、数据库、文本等大量内容，被形象地称作“内置电池（batteries included）”。用Python开发，许多功能不必从零编写，直接使用现成的即可。除了内置的库外，Python还有大量的第三方库，也就是别人开发的，供你直接使用的东西。当然，如果你开发的代码通过很好的封装，也可以作为第三方库给别人使用。\n",
    "\n",
    "许多大型网站就是用Python开发的，例如YouTube、Instagram，还有国内的豆瓣。很多大公司，包括Google、Yahoo等，甚至NASA（美国航空航天局）都大量地使用Python。\n",
    "\n",
    "在数据科学领域有着绝对的优势地位，cs背景的同学做数据科学的工作，python用得非常多，有一些统计背景的同学可能习惯用R，但是也可以快速迁移到python。整个AI生态，有非常高的python语言倾斜程度。\n",
    "![](../img/python-trend.png)\n",
    "\n",
    "### 深度学习/人工智能\n",
    "**[小象学院](http://www.chinahadoop.cn/course/landpage/15)《机器学习集训营》课程资料 by [@寒小阳](https://blog.csdn.net/han_xiaoyang)**\n",
    "\n",
    "google：tensorflow<br>\n",
    "facebook：pytorch+caffe2<br>\n",
    "Amazon：mxnet+gluon<br>\n",
    "百度：paddlepaddle<br>\n",
    "非常容易上手的一些package:Keras Tflearn tensorlayer\n",
    "\n",
    "![](../img/AI-python.png)\n",
    "\n",
    "### 机器学习\n",
    "**[小象学院](http://www.chinahadoop.cn/course/landpage/15)《机器学习集训营》课程资料 by [@寒小阳](https://blog.csdn.net/han_xiaoyang)**\n",
    "\n",
    "numpy scipy pandas scikit-learn xgboost/LightGBM\n",
    "![](../img/ml-python.png)\n",
    "\n",
    "### 大数据\n",
    "**[小象学院](http://www.chinahadoop.cn/course/landpage/15)《机器学习集训营》课程资料 by [@寒小阳](https://blog.csdn.net/han_xiaoyang)**\n",
    "\n",
    "大数据整体是由Java/scala等语言主导的方向，但是目前有很多python的方式可以无缝衔接使用，从早期的hadoop生态可以通过hadoop streaming使用python脚本完成Map-Reduce任务，到现在大家都在广泛使用的spark也有python的接口，而且在效率上和其他语言并没有太大的差别。\n",
    "![](../img/big-data-python.png)\n",
    "\n",
    "### 原因\n",
    "时间非常宝贵，“算法工程师”、“数据科学家”需要用数据驱动的方式去解决实际生活中的各种问题，但是花大量的时间去开发不是一个很高效的方式，理想的状况是，你把主要的精力放在分析业务场景和数据，找到更好更贴切的方式解决问题本身上，而快速地coding验证或者开发服务。"
   ]
  }
 ],
 "metadata": {
  "kernelspec": {
   "display_name": "Python 3",
   "language": "python",
   "name": "python3"
  },
  "language_info": {
   "codemirror_mode": {
    "name": "ipython",
    "version": 3
   },
   "file_extension": ".py",
   "mimetype": "text/x-python",
   "name": "python",
   "nbconvert_exporter": "python",
   "pygments_lexer": "ipython3",
   "version": "3.6.1"
  },
  "toc": {
   "base_numbering": 1,
   "nav_menu": {},
   "number_sections": true,
   "sideBar": true,
   "skip_h1_title": false,
   "title_cell": "Table of Contents",
   "title_sidebar": "Contents",
   "toc_cell": false,
   "toc_position": {},
   "toc_section_display": true,
   "toc_window_display": true
  }
 },
 "nbformat": 4,
 "nbformat_minor": 2
}
