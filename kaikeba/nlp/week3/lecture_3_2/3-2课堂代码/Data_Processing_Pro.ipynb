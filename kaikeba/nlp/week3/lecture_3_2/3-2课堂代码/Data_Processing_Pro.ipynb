{
 "cells": [
  {
   "cell_type": "code",
   "execution_count": 1,
   "metadata": {},
   "outputs": [],
   "source": [
    "%load_ext autoreload\n",
    "%autoreload 2\n",
    "import warnings\n",
    "warnings.filterwarnings(\"ignore\")\n",
    "import sys\n",
    "# 要导入代码的路径 ,utils无法导入的同学,添加上自己code的路径 ,项目代码结构 code/utils ....\n",
    "sys.path.append('/home/roger/kaikeba/03_lecture/code')"
   ]
  },
  {
   "cell_type": "code",
   "execution_count": 2,
   "metadata": {},
   "outputs": [
    {
     "name": "stderr",
     "output_type": "stream",
     "text": [
      "Building prefix dict from the default dictionary ...\n",
      "2019-11-24 22:14:27,512 : DEBUG : Building prefix dict from the default dictionary ...\n",
      "Loading model from cache /tmp/jieba.cache\n",
      "2019-11-24 22:14:27,514 : DEBUG : Loading model from cache /tmp/jieba.cache\n",
      "Loading model cost 0.713 seconds.\n",
      "2019-11-24 22:14:28,226 : DEBUG : Loading model cost 0.713 seconds.\n",
      "Prefix dict has been built succesfully.\n",
      "2019-11-24 22:14:28,227 : DEBUG : Prefix dict has been built succesfully.\n"
     ]
    }
   ],
   "source": [
    "import pandas as pd\n",
    "import numpy as np\n",
    "from utils.data_loader import build_dataset\n",
    "from utils.config import *\n",
    "from gensim.models.word2vec import LineSentence, Word2Vec"
   ]
  },
  {
   "cell_type": "markdown",
   "metadata": {},
   "source": [
    "## 1. 数据预处理"
   ]
  },
  {
   "cell_type": "code",
   "execution_count": 6,
   "metadata": {
    "scrolled": true
   },
   "outputs": [
    {
     "name": "stdout",
     "output_type": "stream",
     "text": [
      "train data size 82943,test data size 20000\n",
      "train data size 82871,test data size 20000,merged_df data size 102871\n"
     ]
    },
    {
     "name": "stderr",
     "output_type": "stream",
     "text": [
      "2019-11-24 21:36:27,636 : INFO : collecting all words and their counts\n",
      "2019-11-24 21:36:27,640 : INFO : PROGRESS: at sentence #0, processed 0 words, keeping 0 word types\n"
     ]
    },
    {
     "name": "stdout",
     "output_type": "stream",
     "text": [
      "start build w2v model\n"
     ]
    },
    {
     "name": "stderr",
     "output_type": "stream",
     "text": [
      "2019-11-24 21:36:27,857 : INFO : PROGRESS: at sentence #10000, processed 937272 words, keeping 36653 word types\n",
      "2019-11-24 21:36:28,072 : INFO : PROGRESS: at sentence #20000, processed 1889030 words, keeping 53934 word types\n",
      "2019-11-24 21:36:28,282 : INFO : PROGRESS: at sentence #30000, processed 2829438 words, keeping 66706 word types\n",
      "2019-11-24 21:36:28,489 : INFO : PROGRESS: at sentence #40000, processed 3741912 words, keeping 77607 word types\n",
      "2019-11-24 21:36:28,708 : INFO : PROGRESS: at sentence #50000, processed 4714603 words, keeping 87459 word types\n",
      "2019-11-24 21:36:28,935 : INFO : PROGRESS: at sentence #60000, processed 5748572 words, keeping 97387 word types\n",
      "2019-11-24 21:36:29,173 : INFO : PROGRESS: at sentence #70000, processed 6805872 words, keeping 106963 word types\n",
      "2019-11-24 21:36:29,385 : INFO : PROGRESS: at sentence #80000, processed 7748078 words, keeping 115067 word types\n",
      "2019-11-24 21:36:29,583 : INFO : PROGRESS: at sentence #90000, processed 8606035 words, keeping 122981 word types\n",
      "2019-11-24 21:36:29,777 : INFO : PROGRESS: at sentence #100000, processed 9455624 words, keeping 130011 word types\n",
      "2019-11-24 21:36:29,838 : INFO : collected 132022 word types from a corpus of 9704891 raw words and 102871 sentences\n",
      "2019-11-24 21:36:29,838 : INFO : Loading a fresh vocabulary\n",
      "2019-11-24 21:36:29,906 : INFO : effective_min_count=5 retains 32800 unique words (24% of original 132022, drops 99222)\n",
      "2019-11-24 21:36:29,907 : INFO : effective_min_count=5 leaves 9555789 word corpus (98% of original 9704891, drops 149102)\n",
      "2019-11-24 21:36:29,967 : INFO : deleting the raw counts dictionary of 132022 items\n",
      "2019-11-24 21:36:29,969 : INFO : sample=0.001 downsamples 51 most-common words\n",
      "2019-11-24 21:36:29,970 : INFO : downsampling leaves estimated 8595116 word corpus (89.9% of prior 9555789)\n",
      "2019-11-24 21:36:30,022 : INFO : estimated required memory for 32800 words and 300 dimensions: 95120000 bytes\n",
      "2019-11-24 21:36:30,023 : INFO : resetting layer weights\n",
      "2019-11-24 21:36:30,329 : INFO : training model with 8 workers on 32800 vocabulary and 300 features, using sg=0 hs=0 sample=0.001 negative=5 window=3\n",
      "2019-11-24 21:36:31,337 : INFO : EPOCH 1 - PROGRESS: at 21.59% examples, 1852506 words/s, in_qsize 14, out_qsize 1\n",
      "2019-11-24 21:36:32,343 : INFO : EPOCH 1 - PROGRESS: at 44.66% examples, 1891738 words/s, in_qsize 14, out_qsize 1\n",
      "2019-11-24 21:36:33,345 : INFO : EPOCH 1 - PROGRESS: at 65.63% examples, 1917092 words/s, in_qsize 14, out_qsize 0\n",
      "2019-11-24 21:36:34,349 : INFO : EPOCH 1 - PROGRESS: at 88.35% examples, 1914170 words/s, in_qsize 14, out_qsize 0\n",
      "2019-11-24 21:36:34,787 : INFO : worker thread finished; awaiting finish of 7 more threads\n",
      "2019-11-24 21:36:34,791 : INFO : worker thread finished; awaiting finish of 6 more threads\n",
      "2019-11-24 21:36:34,792 : INFO : worker thread finished; awaiting finish of 5 more threads\n",
      "2019-11-24 21:36:34,793 : INFO : worker thread finished; awaiting finish of 4 more threads\n",
      "2019-11-24 21:36:34,794 : INFO : worker thread finished; awaiting finish of 3 more threads\n",
      "2019-11-24 21:36:34,796 : INFO : worker thread finished; awaiting finish of 2 more threads\n",
      "2019-11-24 21:36:34,798 : INFO : worker thread finished; awaiting finish of 1 more threads\n",
      "2019-11-24 21:36:34,801 : INFO : worker thread finished; awaiting finish of 0 more threads\n",
      "2019-11-24 21:36:34,802 : INFO : EPOCH - 1 : training on 9704891 raw words (8593902 effective words) took 4.5s, 1922861 effective words/s\n",
      "2019-11-24 21:36:34,802 : INFO : training on a 9704891 raw words (8593902 effective words) took 4.5s, 1921626 effective words/s\n",
      "2019-11-24 21:36:40,775 : INFO : collecting all words and their counts\n",
      "2019-11-24 21:36:40,778 : INFO : PROGRESS: at sentence #0, processed 0 words, keeping 0 word types\n"
     ]
    },
    {
     "name": "stdout",
     "output_type": "stream",
     "text": [
      "start retrain w2v model\n"
     ]
    },
    {
     "name": "stderr",
     "output_type": "stream",
     "text": [
      "2019-11-24 21:36:41,243 : INFO : PROGRESS: at sentence #10000, processed 2610000 words, keeping 22467 word types\n",
      "2019-11-24 21:36:41,700 : INFO : PROGRESS: at sentence #20000, processed 5220000 words, keeping 27516 word types\n",
      "2019-11-24 21:36:42,162 : INFO : PROGRESS: at sentence #30000, processed 7830000 words, keeping 29902 word types\n",
      "2019-11-24 21:36:42,623 : INFO : PROGRESS: at sentence #40000, processed 10440000 words, keeping 31156 word types\n",
      "2019-11-24 21:36:43,082 : INFO : PROGRESS: at sentence #50000, processed 13050000 words, keeping 31849 word types\n",
      "2019-11-24 21:36:43,545 : INFO : PROGRESS: at sentence #60000, processed 15660000 words, keeping 32302 word types\n",
      "2019-11-24 21:36:44,011 : INFO : PROGRESS: at sentence #70000, processed 18270000 words, keeping 32557 word types\n",
      "2019-11-24 21:36:44,473 : INFO : PROGRESS: at sentence #80000, processed 20880000 words, keeping 32657 word types\n",
      "2019-11-24 21:36:44,607 : INFO : collected 32683 word types from a corpus of 21629331 raw words and 82871 sentences\n",
      "2019-11-24 21:36:44,607 : INFO : Updating model with new vocabulary\n",
      "2019-11-24 21:36:44,624 : INFO : New added 27202 unique words (45% of original 59885) and increased the count of 27202 pre-existing words (45% of original 59885)\n",
      "2019-11-24 21:36:44,724 : INFO : deleting the raw counts dictionary of 32683 items\n",
      "2019-11-24 21:36:44,725 : INFO : sample=0.001 downsamples 18 most-common words\n",
      "2019-11-24 21:36:44,725 : INFO : downsampling leaves estimated 14299472 word corpus (66.2% of prior 21611630)\n",
      "2019-11-24 21:36:44,761 : INFO : estimated required memory for 54404 words and 300 dimensions: 157771600 bytes\n",
      "2019-11-24 21:36:44,761 : INFO : updating layer weights\n",
      "2019-11-24 21:36:44,787 : WARNING : Effective 'alpha' higher than previous training cycles\n",
      "2019-11-24 21:36:44,787 : INFO : training model with 8 workers on 32804 vocabulary and 300 features, using sg=0 hs=0 sample=0.001 negative=5 window=3\n",
      "2019-11-24 21:36:45,797 : INFO : EPOCH 1 - PROGRESS: at 16.23% examples, 1136936 words/s, in_qsize 5, out_qsize 2\n",
      "2019-11-24 21:36:46,798 : INFO : EPOCH 1 - PROGRESS: at 32.51% examples, 1149107 words/s, in_qsize 13, out_qsize 0\n",
      "2019-11-24 21:36:47,801 : INFO : EPOCH 1 - PROGRESS: at 49.02% examples, 1139282 words/s, in_qsize 12, out_qsize 1\n",
      "2019-11-24 21:36:48,801 : INFO : EPOCH 1 - PROGRESS: at 65.25% examples, 1150428 words/s, in_qsize 14, out_qsize 0\n",
      "2019-11-24 21:36:49,801 : INFO : EPOCH 1 - PROGRESS: at 80.98% examples, 1159283 words/s, in_qsize 15, out_qsize 0\n",
      "2019-11-24 21:36:50,804 : INFO : EPOCH 1 - PROGRESS: at 96.84% examples, 1155390 words/s, in_qsize 14, out_qsize 0\n",
      "2019-11-24 21:36:50,970 : INFO : worker thread finished; awaiting finish of 7 more threads\n",
      "2019-11-24 21:36:50,972 : INFO : worker thread finished; awaiting finish of 6 more threads\n",
      "2019-11-24 21:36:50,973 : INFO : worker thread finished; awaiting finish of 5 more threads\n",
      "2019-11-24 21:36:50,974 : INFO : worker thread finished; awaiting finish of 4 more threads\n",
      "2019-11-24 21:36:50,974 : INFO : worker thread finished; awaiting finish of 3 more threads\n",
      "2019-11-24 21:36:50,975 : INFO : worker thread finished; awaiting finish of 2 more threads\n",
      "2019-11-24 21:36:50,976 : INFO : worker thread finished; awaiting finish of 1 more threads\n",
      "2019-11-24 21:36:50,976 : INFO : worker thread finished; awaiting finish of 0 more threads\n",
      "2019-11-24 21:36:50,977 : INFO : EPOCH - 1 : training on 21629331 raw words (7166839 effective words) took 6.2s, 1158774 effective words/s\n",
      "2019-11-24 21:36:50,977 : INFO : training on a 21629331 raw words (7166839 effective words) took 6.2s, 1157889 effective words/s\n",
      "2019-11-24 21:36:50,977 : INFO : collecting all words and their counts\n",
      "2019-11-24 21:36:50,978 : INFO : PROGRESS: at sentence #0, processed 0 words, keeping 0 word types\n",
      "2019-11-24 21:36:51,060 : INFO : PROGRESS: at sentence #10000, processed 340000 words, keeping 7646 word types\n",
      "2019-11-24 21:36:51,140 : INFO : PROGRESS: at sentence #20000, processed 680000 words, keeping 10405 word types\n",
      "2019-11-24 21:36:51,220 : INFO : PROGRESS: at sentence #30000, processed 1020000 words, keeping 12278 word types\n"
     ]
    },
    {
     "name": "stdout",
     "output_type": "stream",
     "text": [
      "1/3\n"
     ]
    },
    {
     "name": "stderr",
     "output_type": "stream",
     "text": [
      "2019-11-24 21:36:51,300 : INFO : PROGRESS: at sentence #40000, processed 1360000 words, keeping 13807 word types\n",
      "2019-11-24 21:36:51,379 : INFO : PROGRESS: at sentence #50000, processed 1700000 words, keeping 14983 word types\n",
      "2019-11-24 21:36:51,458 : INFO : PROGRESS: at sentence #60000, processed 2040000 words, keeping 16099 word types\n",
      "2019-11-24 21:36:51,539 : INFO : PROGRESS: at sentence #70000, processed 2380000 words, keeping 17191 word types\n",
      "2019-11-24 21:36:51,618 : INFO : PROGRESS: at sentence #80000, processed 2720000 words, keeping 17950 word types\n",
      "2019-11-24 21:36:51,641 : INFO : collected 18178 word types from a corpus of 2817614 raw words and 82871 sentences\n",
      "2019-11-24 21:36:51,641 : INFO : Updating model with new vocabulary\n",
      "2019-11-24 21:36:51,649 : INFO : New added 7058 unique words (27% of original 25236) and increased the count of 7058 pre-existing words (27% of original 25236)\n",
      "2019-11-24 21:36:51,676 : INFO : deleting the raw counts dictionary of 18178 items\n",
      "2019-11-24 21:36:51,677 : INFO : sample=0.001 downsamples 36 most-common words\n",
      "2019-11-24 21:36:51,677 : INFO : downsampling leaves estimated 2140856 word corpus (76.5% of prior 2797429)\n",
      "2019-11-24 21:36:51,713 : INFO : estimated required memory for 14116 words and 300 dimensions: 40936400 bytes\n",
      "2019-11-24 21:36:51,713 : INFO : updating layer weights\n",
      "2019-11-24 21:36:51,739 : WARNING : Effective 'alpha' higher than previous training cycles\n",
      "2019-11-24 21:36:51,739 : INFO : training model with 8 workers on 32804 vocabulary and 300 features, using sg=0 hs=0 sample=0.001 negative=5 window=3\n",
      "2019-11-24 21:36:52,745 : INFO : EPOCH 1 - PROGRESS: at 84.08% examples, 922135 words/s, in_qsize 14, out_qsize 1\n",
      "2019-11-24 21:36:52,876 : INFO : worker thread finished; awaiting finish of 7 more threads\n",
      "2019-11-24 21:36:52,878 : INFO : worker thread finished; awaiting finish of 6 more threads\n",
      "2019-11-24 21:36:52,878 : INFO : worker thread finished; awaiting finish of 5 more threads\n",
      "2019-11-24 21:36:52,879 : INFO : worker thread finished; awaiting finish of 4 more threads\n",
      "2019-11-24 21:36:52,879 : INFO : worker thread finished; awaiting finish of 3 more threads\n",
      "2019-11-24 21:36:52,882 : INFO : worker thread finished; awaiting finish of 2 more threads\n",
      "2019-11-24 21:36:52,883 : INFO : worker thread finished; awaiting finish of 1 more threads\n",
      "2019-11-24 21:36:52,884 : INFO : worker thread finished; awaiting finish of 0 more threads\n",
      "2019-11-24 21:36:52,884 : INFO : EPOCH - 1 : training on 2817614 raw words (1090378 effective words) took 1.1s, 954952 effective words/s\n",
      "2019-11-24 21:36:52,884 : INFO : training on a 2817614 raw words (1090378 effective words) took 1.1s, 952286 effective words/s\n",
      "2019-11-24 21:36:52,885 : INFO : collecting all words and their counts\n",
      "2019-11-24 21:36:52,885 : INFO : PROGRESS: at sentence #0, processed 0 words, keeping 0 word types\n"
     ]
    },
    {
     "name": "stdout",
     "output_type": "stream",
     "text": [
      "2/3\n"
     ]
    },
    {
     "name": "stderr",
     "output_type": "stream",
     "text": [
      "2019-11-24 21:36:53,367 : INFO : PROGRESS: at sentence #10000, processed 2610000 words, keeping 22626 word types\n",
      "2019-11-24 21:36:53,824 : INFO : collected 27245 word types from a corpus of 5220000 raw words and 20000 sentences\n",
      "2019-11-24 21:36:53,824 : INFO : Updating model with new vocabulary\n",
      "2019-11-24 21:36:53,837 : INFO : New added 12435 unique words (31% of original 39680) and increased the count of 12435 pre-existing words (31% of original 39680)\n",
      "2019-11-24 21:36:53,885 : INFO : deleting the raw counts dictionary of 27245 items\n",
      "2019-11-24 21:36:53,886 : INFO : sample=0.001 downsamples 18 most-common words\n",
      "2019-11-24 21:36:53,886 : INFO : downsampling leaves estimated 3406995 word corpus (65.7% of prior 5189024)\n",
      "2019-11-24 21:36:53,921 : INFO : estimated required memory for 24870 words and 300 dimensions: 72123000 bytes\n",
      "2019-11-24 21:36:53,922 : INFO : updating layer weights\n",
      "2019-11-24 21:36:53,947 : WARNING : Effective 'alpha' higher than previous training cycles\n",
      "2019-11-24 21:36:53,947 : INFO : training model with 8 workers on 32804 vocabulary and 300 features, using sg=0 hs=0 sample=0.001 negative=5 window=3\n",
      "2019-11-24 21:36:54,950 : INFO : EPOCH 1 - PROGRESS: at 62.70% examples, 1093496 words/s, in_qsize 12, out_qsize 1\n",
      "2019-11-24 21:36:55,494 : INFO : worker thread finished; awaiting finish of 7 more threads\n",
      "2019-11-24 21:36:55,499 : INFO : worker thread finished; awaiting finish of 6 more threads\n",
      "2019-11-24 21:36:55,500 : INFO : worker thread finished; awaiting finish of 5 more threads\n",
      "2019-11-24 21:36:55,500 : INFO : worker thread finished; awaiting finish of 4 more threads\n",
      "2019-11-24 21:36:55,501 : INFO : worker thread finished; awaiting finish of 3 more threads\n",
      "2019-11-24 21:36:55,502 : INFO : worker thread finished; awaiting finish of 2 more threads\n",
      "2019-11-24 21:36:55,503 : INFO : worker thread finished; awaiting finish of 1 more threads\n",
      "2019-11-24 21:36:55,505 : INFO : worker thread finished; awaiting finish of 0 more threads\n",
      "2019-11-24 21:36:55,505 : INFO : EPOCH - 1 : training on 5220000 raw words (1734643 effective words) took 1.6s, 1114878 effective words/s\n",
      "2019-11-24 21:36:55,505 : INFO : training on a 5220000 raw words (1734643 effective words) took 1.6s, 1113309 effective words/s\n",
      "2019-11-24 21:36:55,506 : INFO : saving Word2Vec object under /home/roger/kaikeba/03_lecture/code/data/wv/word2vec.model, separately None\n",
      "2019-11-24 21:36:55,506 : INFO : not storing attribute vectors_norm\n",
      "2019-11-24 21:36:55,507 : INFO : not storing attribute cum_table\n",
      "2019-11-24 21:36:56,021 : INFO : saved /home/roger/kaikeba/03_lecture/code/data/wv/word2vec.model\n"
     ]
    },
    {
     "name": "stdout",
     "output_type": "stream",
     "text": [
      "finish retrain w2v model\n",
      "final w2v_model has vocabulary of  32804\n"
     ]
    }
   ],
   "source": [
    "train_X,train_Y,test_X,wv_model = build_dataset(train_data_path,test_data_path)"
   ]
  },
  {
   "cell_type": "code",
   "execution_count": 7,
   "metadata": {},
   "outputs": [
    {
     "data": {
      "text/plain": [
       "0    <START> 方向机 重 助力 泵 方向机 都 换 新 都 换 助力 泵 方向机 换 方向...\n",
       "1    <START> 奔驰 <UNK> 排气 凸轮轴 调节 错误 有没有 电脑 检测 故障 代码 ...\n",
       "2    <START> 2010 款 宝马X1 2011 年 出厂 20 排量 通用 <UNK> 变...\n",
       "3    <START> 30V6 发动机 号 位置 照片 最好 右侧 排气管 上方 缸体 上 靠近 ...\n",
       "4    <START> 2012 款 奔驰 c180 维修保养 动力 值得 拥有 家庭 用车 入手 ...\n",
       "Name: X, dtype: object"
      ]
     },
     "execution_count": 7,
     "metadata": {},
     "output_type": "execute_result"
    }
   ],
   "source": [
    "train_X.head()"
   ]
  },
  {
   "cell_type": "markdown",
   "metadata": {},
   "source": [
    "## 获得 vocab "
   ]
  },
  {
   "cell_type": "code",
   "execution_count": 7,
   "metadata": {},
   "outputs": [
    {
     "data": {
      "text/plain": [
       "(32804, 300)"
      ]
     },
     "execution_count": 7,
     "metadata": {},
     "output_type": "execute_result"
    }
   ],
   "source": [
    "# 更新vocab \n",
    "vocab = {word: index for index, word in enumerate(wv_model.wv.index2word)}\n",
    "reverse_vocab = {index: word for index, word in enumerate(wv_model.wv.index2word)}\n",
    "# 更新词向量矩阵\n",
    "embedding_matrix = wv_model.wv.vectors\n",
    "embedding_matrix.shape#"
   ]
  },
  {
   "cell_type": "markdown",
   "metadata": {},
   "source": [
    "## 3.4 数值转换"
   ]
  },
  {
   "cell_type": "code",
   "execution_count": 8,
   "metadata": {},
   "outputs": [],
   "source": [
    "# 遇到未知词就填充unk的索引\n",
    "unk_index = vocab['<UNK>']\n",
    "def transform_data(sentence,vocab):\n",
    "    # 字符串切分成词\n",
    "    words=sentence.split(' ')\n",
    "    # 按照vocab的index进行转换\n",
    "    ids=[vocab[word] if word in vocab else unk_index for word in words]\n",
    "    return ids"
   ]
  },
  {
   "cell_type": "code",
   "execution_count": 9,
   "metadata": {},
   "outputs": [],
   "source": [
    "# 将词转换成索引  [<START> 方向机 重 ...] -> [32800, 403, 986, 246, 231\n",
    "train_ids_x=train_X.apply(lambda x:transform_data(x,vocab))\n",
    "train_ids_y=train_Y.apply(lambda x:transform_data(x,vocab))\n",
    "test_ids_x=test_X.apply(lambda x:transform_data(x,vocab))"
   ]
  },
  {
   "cell_type": "code",
   "execution_count": 10,
   "metadata": {
    "scrolled": true
   },
   "outputs": [
    {
     "data": {
      "text/plain": [
       "0    [32800, 1050, 264, 17, 60, 13, 49, 50, 1333, 2...\n",
       "1    [32800, 217, 6, 102, 9, 217, 59, 1011, 135, 6,...\n",
       "2    [32800, 1050, 6142, 534, 86, 668, 18, 153, 328...\n",
       "3    [32800, 8, 257, 11, 6756, 8, 2126, 4220, 4542,...\n",
       "4    [32800, 60, 2865, 4314, 23242, 32801, 17544, 4...\n",
       "Name: X, dtype: object"
      ]
     },
     "execution_count": 10,
     "metadata": {},
     "output_type": "execute_result"
    }
   ],
   "source": [
    "test_ids_x.head()"
   ]
  },
  {
   "cell_type": "code",
   "execution_count": 11,
   "metadata": {},
   "outputs": [],
   "source": [
    "# 将索引列表转换成矩阵 [32800, 403, 986, 246, 231] --> array([[32800,   403,   986 ]]\n",
    "train_data_X=np.array(train_ids_x.tolist())\n",
    "train_data_Y=np.array(train_ids_y.tolist())\n",
    "test_data_X=np.array(test_ids_x.tolist())"
   ]
  },
  {
   "cell_type": "code",
   "execution_count": 12,
   "metadata": {},
   "outputs": [
    {
     "data": {
      "text/plain": [
       "(82871, 261)"
      ]
     },
     "execution_count": 12,
     "metadata": {},
     "output_type": "execute_result"
    }
   ],
   "source": [
    "train_data_X.shape"
   ]
  },
  {
   "cell_type": "markdown",
   "metadata": {},
   "source": [
    "## 4. 简易模型搭建"
   ]
  },
  {
   "cell_type": "code",
   "execution_count": 13,
   "metadata": {},
   "outputs": [],
   "source": [
    "from tensorflow.keras.models import Model, Sequential\n",
    "from tensorflow.keras.layers import GRU, Input, Dense, TimeDistributed, Activation, RepeatVector, Bidirectional\n",
    "from tensorflow.keras.layers import Embedding\n",
    "from tensorflow.keras.optimizers import Adam\n",
    "from tensorflow.keras.losses import sparse_categorical_crossentropy"
   ]
  },
  {
   "cell_type": "code",
   "execution_count": 14,
   "metadata": {},
   "outputs": [],
   "source": [
    "def seq2seq(input_length, output_sequence_length, embedding_matrix, vocab_size):\n",
    "    model = Sequential()\n",
    "    model.add(Embedding(input_dim=vocab_size, output_dim=300, weights=[embedding_matrix], trainable=False,\n",
    "                        input_length=input_length))\n",
    "    model.add(Bidirectional(GRU(300, return_sequences=False)))\n",
    "    model.add(Dense(300, activation=\"relu\"))\n",
    "    model.add(RepeatVector(output_sequence_length))\n",
    "    model.add(Bidirectional(GRU(300, return_sequences=True)))\n",
    "    model.add(TimeDistributed(Dense(vocab_size, activation='softmax')))\n",
    "    model.compile(loss=sparse_categorical_crossentropy,\n",
    "                  optimizer=Adam(1e-3))\n",
    "    model.summary()\n",
    "    return model"
   ]
  },
  {
   "cell_type": "markdown",
   "metadata": {},
   "source": [
    "## 4.1 基本参数设置"
   ]
  },
  {
   "cell_type": "code",
   "execution_count": 15,
   "metadata": {},
   "outputs": [
    {
     "data": {
      "text/plain": [
       "(82871, 261)"
      ]
     },
     "execution_count": 15,
     "metadata": {},
     "output_type": "execute_result"
    }
   ],
   "source": [
    "train_data_X.shape"
   ]
  },
  {
   "cell_type": "code",
   "execution_count": 17,
   "metadata": {},
   "outputs": [],
   "source": [
    "# 输入的长度\n",
    "input_length = train_data_X.shape[1]\n",
    "# 输出的长度\n",
    "output_sequence_length = train_data_Y.shape[1]\n",
    "# 词表大小\n",
    "vocab_size=len(vocab)\n",
    "# 词向量矩阵\n",
    "embedding_matrix = wv_model.wv.vectors"
   ]
  },
  {
   "cell_type": "markdown",
   "metadata": {},
   "source": [
    "## 4.2 模型构建"
   ]
  },
  {
   "cell_type": "code",
   "execution_count": 16,
   "metadata": {},
   "outputs": [
    {
     "ename": "NameError",
     "evalue": "name 'input_length' is not defined",
     "output_type": "error",
     "traceback": [
      "\u001b[0;31m---------------------------------------------------------------------------\u001b[0m",
      "\u001b[0;31mNameError\u001b[0m                                 Traceback (most recent call last)",
      "\u001b[0;32m<ipython-input-16-cd9de63bcc8f>\u001b[0m in \u001b[0;36m<module>\u001b[0;34m\u001b[0m\n\u001b[0;32m----> 1\u001b[0;31m \u001b[0mmodel\u001b[0m \u001b[0;34m=\u001b[0m \u001b[0mseq2seq\u001b[0m\u001b[0;34m(\u001b[0m\u001b[0minput_length\u001b[0m\u001b[0;34m,\u001b[0m\u001b[0moutput_sequence_length\u001b[0m\u001b[0;34m,\u001b[0m\u001b[0membedding_matrix\u001b[0m\u001b[0;34m,\u001b[0m\u001b[0mvocab_size\u001b[0m\u001b[0;34m)\u001b[0m\u001b[0;34m\u001b[0m\u001b[0m\n\u001b[0m",
      "\u001b[0;31mNameError\u001b[0m: name 'input_length' is not defined"
     ]
    }
   ],
   "source": [
    "model = seq2seq(input_length,output_sequence_length,embedding_matrix,vocab_size)"
   ]
  },
  {
   "cell_type": "markdown",
   "metadata": {},
   "source": [
    "## 4.3 模型训练"
   ]
  },
  {
   "cell_type": "code",
   "execution_count": null,
   "metadata": {},
   "outputs": [
    {
     "name": "stdout",
     "output_type": "stream",
     "text": [
      "Train on 66296 samples, validate on 16575 samples\n",
      "22144/66296 [=========>....................] - ETA: 23:29 - loss: 3.3022"
     ]
    }
   ],
   "source": [
    "model.fit(train_data_X, train_data_Y, batch_size=32, epochs=1, validation_split=0.2)"
   ]
  },
  {
   "cell_type": "markdown",
   "metadata": {},
   "source": [
    "## 4.4 模型保存"
   ]
  },
  {
   "cell_type": "code",
   "execution_count": null,
   "metadata": {
    "scrolled": false
   },
   "outputs": [],
   "source": [
    "model.save('data/seq2seq_model.h')"
   ]
  },
  {
   "cell_type": "markdown",
   "metadata": {},
   "source": [
    "## 4 .5 模型预测"
   ]
  },
  {
   "cell_type": "code",
   "execution_count": null,
   "metadata": {},
   "outputs": [],
   "source": [
    "test_data_Y = model.predict(test_data_X)"
   ]
  },
  {
   "cell_type": "markdown",
   "metadata": {},
   "source": [
    "# seq2seq"
   ]
  },
  {
   "cell_type": "markdown",
   "metadata": {},
   "source": [
    "1. 所有输出端，都以一个通用的<start>标记开头，以<end>标记结尾，这两个标记也视为一个词/字；\n",
    "\n",
    "2. 将<start>输入decoder，然后得到隐藏层向量，将这个向量与encoder的输出混合，然后送入一个分类器，分类器的结果应当输出P；\n",
    "\n",
    "3. 将P输入decoder，得到新的隐藏层向量，再次与encoder的输出混合，送入分类器，分类器应输出Q；\n",
    "\n",
    "4. 依此递归，直到分类器的结果输出<end>。\n",
    "    \n",
    "\n",
    "* 回到用seq2seq生成文章标题这个任务上，模型可以做些简化，并且可以引入一些先验知识。比如，由于输入语言和输出语言都是中文，因此encoder和decoder的Embedding层可以共享参数（也就是用同一套词向量）。这使得模型的参数量大幅度减少了。\n"
   ]
  },
  {
   "cell_type": "code",
   "execution_count": null,
   "metadata": {},
   "outputs": [],
   "source": [
    "from keras.preprocessing.text import Tokenizer # 词表构建 单词过滤 词频统计 序列填充\n",
    "from keras.preprocessing.sequence import pad_sequences # 序列数据填充\n",
    "from sklearn.model_selection import train_test_split # 数据集划分"
   ]
  },
  {
   "cell_type": "code",
   "execution_count": null,
   "metadata": {},
   "outputs": [],
   "source": [
    "## Q4 新加的符号不在词表 和 词向量矩阵中,怎么办?\n",
    "\n",
    "## 3.4 词表更新\n",
    "\n",
    "print('start retrain w2v model')\n",
    "wv_model.build_vocab(LineSentence(train_x_pad_path), update=True)\n",
    "wv_model.train(LineSentence(train_x_pad_path), epochs=wv_train_epochs, total_examples=wv_model.corpus_count)\n",
    "print('1/3')\n",
    "wv_model.build_vocab(LineSentence(train_y_pad_path), update=True)\n",
    "wv_model.train(LineSentence(train_y_pad_path), epochs=wv_train_epochs, total_examples=wv_model.corpus_count)\n",
    "print('2/3')\n",
    "wv_model.build_vocab(LineSentence(test_x_pad_path), update=True)\n",
    "wv_model.train(LineSentence(test_x_pad_path), epochs=wv_train_epochs, total_examples=wv_model.corpus_count)\n",
    "\n",
    "# 保存词向量模型\n",
    "wv_model.save(save_wv_model_path)\n",
    "\n",
    "## Q5.为什么不一开始就添加 标志符号,然后训练词向量?\n",
    "\n",
    " 更新vocab \n",
    "vocab = {word: index for index, word in enumerate(wv_model.wv.index2word)}\n",
    "reverse_vocab = {index: word for index, word in enumerate(wv_model.wv.index2word)}\n",
    "# 更新词向量矩阵\n",
    "embedding_matrix = wv_model.wv.vectors\n",
    "embedding_matrix.shape#\n",
    "\n",
    "## Q6. 词可以训练吗?\n",
    "\n",
    "train_df['X'].head()\n",
    "\n",
    "## 3.4 数值转换\n",
    "\n",
    "# 遇到未知词就填充unk的索引\n",
    "unk_index = vocab['<UNK>']\n",
    "def transform_data(sentence,vocab):\n",
    "    # 字符串切分成词\n",
    "    words=sentence.split(' ')\n",
    "    # 按照vocab的index进行转换\n",
    "    ids=[vocab[word] if word in vocab else unk_index for word in words]\n",
    "    return ids\n",
    "\n",
    "# 将词转换成索引  [<START> 方向机 重 ...] -> [32800, 403, 986, 246, 231\n",
    "train_ids_x=train_df['X'].apply(lambda x:transform_data(x,vocab))\n",
    "train_ids_y=train_df['Y'].apply(lambda x:transform_data(x,vocab))\n",
    "test_ids_x=test_df['X'].apply(lambda x:transform_data(x,vocab))\n",
    "\n",
    "# 将索引列表转换成矩阵 [32800, 403, 986, 246, 231] --> array([[32800,   403,   986 ]]\n",
    "train_data_X=np.array(train_ids_x.tolist())\n",
    "train_data_Y=np.array(train_ids_y.tolist())\n",
    "test_data_X=np.array(test_ids_x.tolist())\n",
    "\n",
    "train_data_X.shape\n",
    "\n",
    "## 4. 简易模型搭建\n",
    "\n",
    "from tensorflow.keras.models import Model, Sequential\n",
    "from tensorflow.keras.layers import GRU, Input, Dense, TimeDistributed, Activation, RepeatVector, Bidirectional\n",
    "from tensorflow.keras.layers import Embedding\n",
    "from tensorflow.keras.optimizers import Adam\n",
    "from tensorflow.keras.losses import sparse_categorical_crossentropy\n",
    "\n",
    "def seq2seq(input_length, output_sequence_length, embedding_matrix, vocab_size):\n",
    "    model = Sequential()\n",
    "    model.add(Embedding(input_dim=vocab_size, output_dim=300, weights=[embedding_matrix], trainable=False,\n",
    "                        input_length=input_length))\n",
    "    model.add(Bidirectional(GRU(300, return_sequences=False)))\n",
    "    model.add(Dense(300, activation=\"relu\"))\n",
    "    model.add(RepeatVector(output_sequence_length))\n",
    "    model.add(Bidirectional(GRU(300, return_sequences=True)))\n",
    "    model.add(TimeDistributed(Dense(vocab_size, activation='softmax')))\n",
    "    model.compile(loss=sparse_categorical_crossentropy,\n",
    "                  optimizer=Adam(1e-3))\n",
    "    model.summary()\n",
    "    return model\n",
    "\n",
    "## 4.1 基本参数设置\n",
    "\n",
    "train_data_X.shape\n",
    "\n",
    "# 输入的长度\n",
    "input_length = train_data_X.shape[1]\n",
    "# 输出的长度\n",
    "output_sequence_length = train_data_Y.shape[1]\n",
    "# 词表大小\n",
    "vocab_size=len(vocab)\n",
    "# 词向量矩阵\n",
    "embedding_matrix = wv_model.wv.vectors\n",
    "\n",
    "## 4.2 模型构建\n",
    "\n",
    "model = seq2seq(input_length,output_sequence_length,embedding_matrix,vocab_size)\n",
    "\n",
    "## 4.3 模型训练\n",
    "\n",
    "model.fit(train_data_X, train_data_Y, batch_size=32, epochs=1, validation_split=0.2)\n",
    "\n",
    "## 4.4 模型保存\n",
    "\n",
    "model.save('data/seq2seq_model.h')\n",
    "\n",
    "## 4 .5 模型预测\n",
    "\n",
    "test_data_Y = model.predict(test_data_X)\n",
    "\n",
    "# seq2seq\n",
    "\n",
    "1. 所有输出端，都以一个通用的<start>标记开头，以<end>标记结尾，这两个标记也视为一个词/字；\n",
    "\n",
    "2. 将<start>输入decoder，然后得到隐藏层向量，将这个向量与encoder的输出混合，然后送入一个分类器，分类器的结果应当输出P；\n",
    "\n",
    "3. 将P输入decoder，得到新的隐藏层向量，再次与encoder的输出混合，送入分类器，分类器应输出Q；\n",
    "\n",
    "4. 依此递归，直到分类器的结果输出<end>。\n",
    "    \n",
    "\n",
    "* 回到用seq2seq生成文章标题这个任务上，模型可以做些简化，并且可以引入一些先验知识。比如，由于输入语言和输出语言都是中文，因此encoder和decoder的Embedding层可以共享参数（也就是用同一套词向量）。这使得模型的参数量大幅度减少了。\n",
    "\n",
    "\n",
    "from keras.preprocessing.text import Tokenizer # 词表构建 单词过滤 词频统计 序列填充\n",
    "from keras.preprocessing.sequence import pad_sequences # 序列数据填充\n",
    "from sklearn.model_selection import train_test_split # 数据集划分"
   ]
  }
 ],
 "metadata": {
  "kernelspec": {
   "display_name": "lecture02",
   "language": "python",
   "name": "lecture02"
  },
  "language_info": {
   "codemirror_mode": {
    "name": "ipython",
    "version": 3
   },
   "file_extension": ".py",
   "mimetype": "text/x-python",
   "name": "python",
   "nbconvert_exporter": "python",
   "pygments_lexer": "ipython3",
   "version": "3.6.2"
  }
 },
 "nbformat": 4,
 "nbformat_minor": 2
}
