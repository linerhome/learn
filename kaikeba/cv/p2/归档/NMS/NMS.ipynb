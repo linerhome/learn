{
 "cells": [
  {
   "cell_type": "markdown",
   "metadata": {},
   "source": [
    "NMS Non maximum Suppression"
   ]
  },
  {
   "cell_type": "markdown",
   "metadata": {},
   "source": [
    "1. 在若干个bounding boxes里面先找极大值，通过score来排序\n",
    "2. 用找出来的极大值与其他值依次计算iou\n",
    "\n",
    "iou大于设定的某个阈值的话，保留最大的；iou小于阈值，两个框都保留"
   ]
  },
  {
   "cell_type": "code",
   "execution_count": 1,
   "metadata": {},
   "outputs": [],
   "source": [
    "import numpy as np"
   ]
  },
  {
   "cell_type": "code",
   "execution_count": 5,
   "metadata": {},
   "outputs": [],
   "source": [
    "def NMS(lists,thre):\n",
    "    \n",
    "    #lists 5个值  0-3 bounding boxes的坐标，4 socre\n",
    "    #thre    \n",
    "    if len(lists) == 0:\n",
    "        return{}    \n",
    "    lists = np.array(lists)    \n",
    "    # 通过比较score来找出极大值 \n",
    "    res = []   \n",
    "    # 从lists里面取出bounding box的值\n",
    "    x1,y1,x2,y2,score = [lists[:, i] for i in range(5)]    \n",
    "    #降序 通过score来排序\n",
    "    idxs = score.argsort()[::-1]    \n",
    "    # 升序\n",
    "    #idxs = np.argsort(score)    \n",
    "    area = (x2 - x1 +1)*(y2 - y1 +1)    \n",
    "    while len(idxs) > 0:\n",
    "        i = idxs[0]\n",
    "        res.append(i)       \n",
    "        xmin = np.maximum(x1[i],x1[idxs[1:]])\n",
    "        ymin = np.maximum(y1[i],y1[idxs[1:]])\n",
    "        xmax = np.minimum(x2[i],x2[idxs[1:]])\n",
    "        ymax = np.minimum(y2[i],y2[idxs[1:]])        \n",
    "        w = np.maximum(0,xmax - xmin+1)\n",
    "        h = np.maximum(0,ymax - ymin+1)       \n",
    "        inner_area = w * h\n",
    "        \n",
    "        iou = inner_area / (area[i] + area[idxs[1:]] - inner_area)\n",
    "        \n",
    "        idxs = idxs[np.where(iou < thre)[0] +1]    \n",
    "    return res\n",
    "        \n",
    "   "
   ]
  },
  {
   "cell_type": "code",
   "execution_count": 10,
   "metadata": {},
   "outputs": [
    {
     "name": "stdout",
     "output_type": "stream",
     "text": [
      "source lists: [[100, 100, 210, 210, 0.72], [10, 20, 30, 40, 0.2]]\n",
      "Suppressed lists: [0, 1]\n"
     ]
    }
   ],
   "source": [
    "# 两个bounding box不相交\n",
    "if __name__ == '__main__':\n",
    "    lists = [[100,100,210,210,0.72],\n",
    "           [10,20,30,40,0.2]]\n",
    "    print('source lists:',lists)\n",
    "    print('Suppressed lists:',NMS(lists, 0.01))"
   ]
  },
  {
   "cell_type": "code",
   "execution_count": 11,
   "metadata": {},
   "outputs": [
    {
     "name": "stdout",
     "output_type": "stream",
     "text": [
      "source lists: [[100, 100, 210, 210, 0.72], [100, 100, 210, 210, 0.89], [100, 100, 210, 210, 0.7], [100, 100, 210, 210, 0.9], [100, 100, 210, 210, 0.6]]\n",
      "Suppressed lists: [3]\n"
     ]
    }
   ],
   "source": [
    "# \n",
    "if __name__ == '__main__':\n",
    "    lists = [[100,100,210,210,0.72],\n",
    "            [100,100,210,210,0.89],\n",
    "            [100,100,210,210,0.7],\n",
    "            [100,100,210,210,0.9],\n",
    "            [100,100,210,210,0.6],]\n",
    "    print('source lists:',lists)\n",
    "    print('Suppressed lists:',NMS(lists, 0.5))"
   ]
  },
  {
   "cell_type": "code",
   "execution_count": 13,
   "metadata": {},
   "outputs": [
    {
     "name": "stdout",
     "output_type": "stream",
     "text": [
      "source lists: [[100, 100, 210, 210, 0.72], [50, 20, 210, 210, 0.89]]\n",
      "Suppressed lists: [1]\n"
     ]
    }
   ],
   "source": [
    "# \n",
    "if __name__ == '__main__':\n",
    "    lists = [[100,100,210,210,0.72],\n",
    "            [50,20,210,210,0.89]]\n",
    "    print('source lists:',lists)\n",
    "    print('Suppressed lists:',NMS(lists, 0.3))"
   ]
  },
  {
   "cell_type": "code",
   "execution_count": null,
   "metadata": {},
   "outputs": [],
   "source": []
  }
 ],
 "metadata": {
  "kernelspec": {
   "display_name": "Python 3",
   "language": "python",
   "name": "python3"
  },
  "language_info": {
   "codemirror_mode": {
    "name": "ipython",
    "version": 3
   },
   "file_extension": ".py",
   "mimetype": "text/x-python",
   "name": "python",
   "nbconvert_exporter": "python",
   "pygments_lexer": "ipython3",
   "version": "3.7.0"
  }
 },
 "nbformat": 4,
 "nbformat_minor": 2
}
