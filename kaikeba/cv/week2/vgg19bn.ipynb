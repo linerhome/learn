{
 "cells": [
  {
   "cell_type": "code",
   "execution_count": 2,
   "metadata": {},
   "outputs": [],
   "source": [
    "import math\n",
    "import torch\n",
    "import torch.nn as nn\n",
    "import torch.nn.init as init"
   ]
  },
  {
   "cell_type": "markdown",
   "metadata": {},
   "source": [
    "### 建立block"
   ]
  },
  {
   "cell_type": "code",
   "execution_count": 3,
   "metadata": {},
   "outputs": [],
   "source": [
    "class Block(nn.Module):\n",
    "    def __init__(self, in_ch,out_ch):\n",
    "        super(Block, self).__init__()\n",
    "        self.conv1 = nn.Conv2d(in_ch, out_ch, kernel_size=3, padding=1)\n",
    "        self.bn1 = nn.BatchNorm2d(out_ch)\n",
    "        self.relu1 = nn.ReLU(inplace=True)\n",
    "    def forward(self, x):\n",
    "        out = self.relu1(self.bn1(self.conv1(x)))\n",
    "        return out"
   ]
  },
  {
   "cell_type": "markdown",
   "metadata": {},
   "source": [
    "### 建立layer"
   ]
  },
  {
   "cell_type": "code",
   "execution_count": null,
   "metadata": {},
   "outputs": [],
   "source": [
    "def make_layers(in_channels, layer_list):\n",
    "    \"\"\"\n",
    "    in_channels: 3the number of input's channels\n",
    "    layer_list: as : [64,64]\n",
    "    \"\"\"\n",
    "    layers = []\n",
    "    for v in layer_list:\n",
    "        layers += [Block(in_channels, v)]\n",
    "        in_channels = v\n",
    "    return nn.Sequential(*layers)\n",
    "\n",
    "\n",
    "class Layer(nn.Module):\n",
    "    def __init__(self, in_channels, layer_list):\n",
    "        super(Layer, self).__init__()\n",
    "        self.layer = make_layers(in_channels, layer_list)\n",
    "        \n",
    "    def forward(self, x):\n",
    "        out = self.layer(x)\n",
    "        return out"
   ]
  },
  {
   "cell_type": "markdown",
   "metadata": {},
   "source": [
    "### 建立VGG-19BN--encode模型\n",
    "\n",
    "* 'A': [64, 'M', 128, 'M', 256, 256, 'M', 512, 512, 'M', 512, 512, 'M'],\n",
    "* 'B': [64, 64, 'M', 128, 128, 'M', 256, 256, 'M', 512, 512, 'M', 512, 512, 'M'],\n",
    "* 'D': [64, 64, 'M', 128, 128, 'M', 256, 256, 256, 'M', 512, 512, 512, 'M', 512, 512, 512, 'M'],\n",
    "* 'E': [64, 64, 'M', 128, 128, 'M', 256, 256, 256, 256, 'M', 512, 512, 512, 512, 'M', 512, 512, 512, 512, 'M'],"
   ]
  },
  {
   "cell_type": "code",
   "execution_count": null,
   "metadata": {},
   "outputs": [],
   "source": [
    "class VGG19BN(nn.Module):\n",
    "    '''\n",
    "    VGG model \n",
    "    '''\n",
    "    def __init__(self):\n",
    "        super(VGG19BN, self).__init__()\n",
    "        # 224\n",
    "        self.layer1 = Layer(3, [64, 64])\n",
    "        self.pool1 = nn.MaxPool2d(kernel_size=2, stride=2)\n",
    "        #112\n",
    "        self.layer2 = Layer(64, [128, 128])\n",
    "        self.pool2 = nn.MaxPool2d(kernel_size=2, stride=2)\n",
    "        #56\n",
    "        self.layer3 = Layer(128, [256, 256, 256, 256])\n",
    "        self.pool3 = nn.MaxPool2d(kernel_size=2, stride=2)\n",
    "        #28\n",
    "        self.layer4 = Layer(256, [512, 512, 512, 512])\n",
    "        self.pool4 = nn.MaxPool2d(kernel_size=2, stride=2)\n",
    "        #14\n",
    "        self.layer5 = Layer(512, [512, 512, 512, 512])\n",
    "        self.pool5 = nn.MaxPool2d(kernel_size=2, stride=2)\n",
    "        #7\n",
    "        # N,C,H,W,\n",
    "        # N,C*H*W\n",
    "#         self.flat = nn.Flatten()\n",
    "#         self.fc1 = nn.Linear(7*7*512, 4096)\n",
    "#         self.fc2 = nn.Linear(4096, 4096)\n",
    "#         self.classifer = nn.Linear(4096, 1000)\n",
    "    def forward(self, x):\n",
    "        f1 = self.pool1(self.layer1(x))\n",
    "        f2 = self.pool2(self.layer2(f1))\n",
    "        f3 = self.pool3(self.layer3(f2))\n",
    "        f4 = self.pool4(self.layer4(f3))\n",
    "        f5 = self.pool5(self.layer5(f4))\n",
    "        # p = self.classifer(self.fc2(self.fc1(self.flat(f5))))\n",
    "        \n",
    "        return f5"
   ]
  },
  {
   "cell_type": "code",
   "execution_count": null,
   "metadata": {},
   "outputs": [],
   "source": [
    "x = torch.randn((10,3, 224,224))\n",
    "model = VGG19BN()\n"
   ]
  },
  {
   "cell_type": "code",
   "execution_count": null,
   "metadata": {},
   "outputs": [],
   "source": [
    "model.eval()\n",
    "y = model(x)\n",
    "y.size()"
   ]
  }
 ],
 "metadata": {
  "kernelspec": {
   "display_name": "Python 3",
   "language": "python",
   "name": "python3"
  },
  "language_info": {
   "codemirror_mode": {
    "name": "ipython",
    "version": 3
   },
   "file_extension": ".py",
   "mimetype": "text/x-python",
   "name": "python",
   "nbconvert_exporter": "python",
   "pygments_lexer": "ipython3",
   "version": "3.7.4"
  }
 },
 "nbformat": 4,
 "nbformat_minor": 2
}
