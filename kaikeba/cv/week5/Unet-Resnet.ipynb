{
 "cells": [
  {
   "cell_type": "code",
   "execution_count": 3,
   "metadata": {},
   "outputs": [],
   "source": [
    "import torch\n",
    "import torch.nn as nn\n",
    "import torch.nn.functional as F"
   ]
  },
  {
   "cell_type": "markdown",
   "metadata": {},
   "source": [
    "# 建立block"
   ]
  },
  {
   "cell_type": "code",
   "execution_count": 4,
   "metadata": {},
   "outputs": [],
   "source": [
    "class Block(nn.Module):\n",
    "    def __init__(self, in_ch,out_ch, kernel_size=3, padding=1, stride=1):\n",
    "        super(Block, self).__init__()\n",
    "        self.conv1 = nn.Conv2d(in_ch, out_ch, kernel_size=kernel_size, padding=padding, stride=stride)\n",
    "        self.bn1 = nn.BatchNorm2d(out_ch)\n",
    "        self.relu1 = nn.ReLU(inplace=True)\n",
    "    def forward(self, x):\n",
    "        out = self.relu1(self.bn1(self.conv1(x)))\n",
    "        return out"
   ]
  },
  {
   "cell_type": "code",
   "execution_count": 5,
   "metadata": {},
   "outputs": [],
   "source": [
    "class ResBlock(nn.Module):\n",
    "    def __init__(self, in_ch,out_ch, kernel_size=3, padding=1, stride=1):\n",
    "        super(ResBlock, self).__init__()\n",
    "        self.bn1 = nn.BatchNorm2d(in_ch)\n",
    "        self.relu1 = nn.ReLU(inplace=True)\n",
    "        self.conv1 = nn.Conv2d(in_ch, out_ch, kernel_size=kernel_size, padding=padding, stride=stride)\n",
    "    def forward(self, x):\n",
    "        out = self.conv1(self.relu1(self.bn1(x)))\n",
    "        return out"
   ]
  },
  {
   "cell_type": "code",
   "execution_count": 6,
   "metadata": {},
   "outputs": [],
   "source": [
    "class Bottleneck(nn.Module):\n",
    "    expansion = 4\n",
    "    def __init__(self, in_chans, out_chans):\n",
    "        super(Bottleneck, self).__init__()\n",
    "        assert out_chans%4==0\n",
    "        self.block1 = ResBlock(in_chans, int(out_chans/4), kernel_size=1, padding=0)\n",
    "        self.block2 = ResBlock(int(out_chans/4), int(out_chans/4), kernel_size=3, padding=1)\n",
    "        self.block3 = ResBlock(int(out_chans/4), out_chans, kernel_size=1, padding=0)\n",
    "        \n",
    "    def forward(self, x):\n",
    "        identity = x\n",
    "        out = self.block1(x)\n",
    "        out = self.block2(out)\n",
    "        out = self.block3(out)\n",
    "        out += identity\n",
    "        return out\n",
    "\n",
    "    \n",
    "class DownBottleneck(nn.Module):\n",
    "    expansion = 4\n",
    "    def __init__(self, in_chans, out_chans, stride=2):\n",
    "        super(DownBottleneck, self).__init__()\n",
    "        assert out_chans%4==0\n",
    "        self.block1 = ResBlock(in_chans, int(out_chans/4), kernel_size=1, padding=0, stride=stride)\n",
    "        self.conv1 = nn.Conv2d(in_chans, out_chans, kernel_size=1, padding=0, stride=stride)\n",
    "        self.block2 = ResBlock(int(out_chans/4), int(out_chans/4), kernel_size=3, padding=1)\n",
    "        self.block3 = ResBlock(int(out_chans/4), out_chans, kernel_size=1, padding=0)\n",
    "        \n",
    "    def forward(self, x):\n",
    "        identity = self.conv1(x)\n",
    "        out = self.block1(x)\n",
    "        out = self.block2(out)\n",
    "        out = self.block3(out)\n",
    "        out += identity\n",
    "        return out"
   ]
  },
  {
   "cell_type": "markdown",
   "metadata": {},
   "source": [
    "# 建立stage/layer"
   ]
  },
  {
   "cell_type": "code",
   "execution_count": 7,
   "metadata": {},
   "outputs": [],
   "source": [
    "def make_layers(in_channels, layer_list,name=\"vgg\"):\n",
    "    layers = []\n",
    "    if name==\"vgg\":\n",
    "        for v in layer_list:\n",
    "            layers += [Block(in_channels, v)]\n",
    "            in_channels = v\n",
    "    elif name==\"resnet\":\n",
    "        layers += [DownBottleneck(in_channels, layer_list[0])]\n",
    "        in_channels = layer_list[0]\n",
    "        for v in layer_list[1:]:\n",
    "            layers += [Bottleneck(in_channels, v)]\n",
    "            in_channels = v\n",
    "    return nn.Sequential(*layers)\n",
    "            \n",
    "\n",
    "class Layer(nn.Module):\n",
    "    def __init__(self, in_channels, layer_list ,net_name):\n",
    "        super(Layer, self).__init__()\n",
    "        self.layer = make_layers(in_channels, layer_list, name=net_name)\n",
    "    def forward(self, x):\n",
    "        out = self.layer(x)\n",
    "        return out"
   ]
  },
  {
   "cell_type": "markdown",
   "metadata": {},
   "source": [
    "# Resnet"
   ]
  },
  {
   "cell_type": "code",
   "execution_count": 8,
   "metadata": {},
   "outputs": [],
   "source": [
    "class ResNet101(nn.Module):\n",
    "    '''\n",
    "    ResNet101 model \n",
    "    '''\n",
    "    def __init__(self):\n",
    "        super(ResNet101, self).__init__()\n",
    "        self.conv1 = Block(3, 64, 7, 3, 2)\n",
    "        self.pool1 = nn.MaxPool2d(kernel_size=3, stride=2, ceil_mode=True)\n",
    "        self.conv2_1 =DownBottleneck(64, 256, stride=1)\n",
    "        self.conv2_2 =Bottleneck(256, 256)\n",
    "        self.conv2_3 =Bottleneck(256, 256)\n",
    "        self.layer3 = Layer(256, [512]*2, \"resnet\")\n",
    "        self.layer4 = Layer(512, [1024]*23, \"resnet\")\n",
    "        self.layer5 = Layer(1024, [2048]*3, \"resnet\")\n",
    "    def forward(self, x):\n",
    "        f1 = self.conv1(x)\n",
    "        f2 = self.conv2_3(self.conv2_2(self.conv2_1(self.pool1(f1))))\n",
    "        f3 = self.layer3(f2)\n",
    "        f4 = self.layer4(f3)\n",
    "        f5 = self.layer5(f4)\n",
    "        return [f2, f3, f4, f5]\n"
   ]
  },
  {
   "cell_type": "markdown",
   "metadata": {},
   "source": [
    "# Unet"
   ]
  },
  {
   "cell_type": "code",
   "execution_count": 12,
   "metadata": {},
   "outputs": [],
   "source": [
    "class UNetConvBlock(nn.Module):\n",
    "    def __init__(self, in_chans, out_chans, padding, batch_norm):\n",
    "        super(UNetConvBlock, self).__init__()\n",
    "        block = []\n",
    "\n",
    "        block.append(nn.Conv2d(in_chans, out_chans, kernel_size=3, padding=int(padding)))\n",
    "        block.append(nn.ReLU())\n",
    "        if batch_norm:\n",
    "            block.append(nn.BatchNorm2d(out_chans))\n",
    "\n",
    "        block.append(nn.Conv2d(out_chans, out_chans, kernel_size=3, padding=int(padding)))\n",
    "        block.append(nn.ReLU())\n",
    "        if batch_norm:\n",
    "            block.append(nn.BatchNorm2d(out_chans))\n",
    "\n",
    "        self.block = nn.Sequential(*block)\n",
    "\n",
    "    def forward(self, x):\n",
    "        out = self.block(x)\n",
    "        return out\n",
    "    \n",
    "    \n",
    "class UNetUpBlock(nn.Module):\n",
    "    def __init__(self, in_chans, out_chans, up_mode, padding, batch_norm):\n",
    "        super(UNetUpBlock, self).__init__()\n",
    "        if up_mode == 'upconv':\n",
    "            self.up = nn.ConvTranspose2d(in_chans, out_chans, kernel_size=2, stride=2)\n",
    "        elif up_mode == 'upsample':\n",
    "            self.up = nn.Sequential(\n",
    "                nn.Upsample(mode='bilinear', scale_factor=2),\n",
    "                nn.Conv2d(in_chans, out_chans, kernel_size=1),\n",
    "            )\n",
    "\n",
    "        self.conv_block = UNetConvBlock(in_chans, out_chans, padding, batch_norm)\n",
    "\n",
    "    def center_crop(self, layer, target_size):\n",
    "        _, _, layer_height, layer_width = layer.size()\n",
    "        diff_y = (layer_height - target_size[0]) // 2\n",
    "        diff_x = (layer_width - target_size[1]) // 2\n",
    "        return layer[\n",
    "            :, :, diff_y : (diff_y + target_size[0]), diff_x : (diff_x + target_size[1])\n",
    "        ]\n",
    "\n",
    "    def forward(self, x, bridge):\n",
    "        up = self.up(x)\n",
    "        crop1 = self.center_crop(bridge, up.shape[2:])\n",
    "        out = torch.cat([up, crop1], 1)\n",
    "        out = self.conv_block(out)\n",
    "\n",
    "        return out"
   ]
  },
  {
   "cell_type": "code",
   "execution_count": 13,
   "metadata": {},
   "outputs": [],
   "source": [
    "class ResNetUNet(nn.Module):\n",
    "    def __init__(\n",
    "        self,\n",
    "        n_classes=2,\n",
    "        depth=5,\n",
    "        wf=6,\n",
    "        padding=1,\n",
    "        batch_norm=False,\n",
    "        up_mode='upconv',\n",
    "    ):\n",
    "        super(ResNetUNet, self).__init__()\n",
    "        assert up_mode in ('upconv', 'upsample')\n",
    "        self.padding = padding\n",
    "        self.depth = depth\n",
    "        prev_channels = 2 ** (wf + depth)\n",
    "        self.encode = ResNet101()\n",
    "        self.up_path = nn.ModuleList()\n",
    "        for i in reversed(range(2,depth)):\n",
    "            self.up_path.append(\n",
    "                UNetUpBlock(prev_channels, 2 ** (wf + i), up_mode, padding, batch_norm)\n",
    "            )\n",
    "            prev_channels = 2 ** (wf + i)\n",
    "\n",
    "        self.last = nn.Conv2d(prev_channels, n_classes, kernel_size=1)\n",
    "\n",
    "    def forward(self, x):\n",
    "        blocks = self.encode(x)\n",
    "        x = blocks[-1]\n",
    "        for i, up in enumerate(self.up_path):\n",
    "            x = up(x, blocks[-i - 2])\n",
    "\n",
    "        return self.last(x)"
   ]
  },
  {
   "cell_type": "code",
   "execution_count": 14,
   "metadata": {},
   "outputs": [
    {
     "data": {
      "text/plain": [
       "torch.Size([1, 2, 64, 64])"
      ]
     },
     "execution_count": 14,
     "metadata": {},
     "output_type": "execute_result"
    }
   ],
   "source": [
    "x = torch.randn((1,3, 256,256))\n",
    "unet = ResNetUNet()\n",
    "unet.eval()\n",
    "y_unet = unet(x)\n",
    "y_unet.size()"
   ]
  },
  {
   "cell_type": "code",
   "execution_count": null,
   "metadata": {},
   "outputs": [],
   "source": []
  }
 ],
 "metadata": {
  "kernelspec": {
   "display_name": "Python 3",
   "language": "python",
   "name": "python3"
  },
  "language_info": {
   "codemirror_mode": {
    "name": "ipython",
    "version": 3
   },
   "file_extension": ".py",
   "mimetype": "text/x-python",
   "name": "python",
   "nbconvert_exporter": "python",
   "pygments_lexer": "ipython3",
   "version": "3.6.8"
  }
 },
 "nbformat": 4,
 "nbformat_minor": 2
}
